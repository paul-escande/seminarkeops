{
  "nbformat": 4,
  "nbformat_minor": 0,
  "metadata": {
    "colab": {
      "name": "Seminar_Keops.ipynb",
      "provenance": [],
      "collapsed_sections": []
    },
    "kernelspec": {
      "name": "python3",
      "display_name": "Python 3"
    },
    "language_info": {
      "name": "python"
    },
    "accelerator": "GPU"
  },
  "cells": [
    {
      "cell_type": "markdown",
      "metadata": {
        "id": "0VSrr9SDR-cx"
      },
      "source": [
        "# PyKeops"
      ]
    },
    {
      "cell_type": "markdown",
      "metadata": {
        "id": "YgbooE5SSHpI"
      },
      "source": [
        "## Installation\n",
        "\n",
        "Don't forget to swith GPU accelerator on: **Runtime>Change runtime type>Hardware accelerator** to GPU"
      ]
    },
    {
      "cell_type": "code",
      "metadata": {
        "colab": {
          "base_uri": "https://localhost:8080/"
        },
        "id": "_CgOM3f3KqCo",
        "outputId": "f11dd64b-cb42-4428-f5d9-8bd6b958b2a8"
      },
      "source": [
        "!pip install pykeops[colab]"
      ],
      "execution_count": 1,
      "outputs": [
        {
          "output_type": "stream",
          "text": [
            "Collecting pykeops[colab]\n",
            "\u001b[?25l  Downloading https://files.pythonhosted.org/packages/8a/93/7ebaa0f2dc54965c510a7b9075fc8a6a51a5e1413b4bf6a97a2ceb9a572f/pykeops-1.5.tar.gz (366kB)\n",
            "\r\u001b[K     |█                               | 10kB 14.5MB/s eta 0:00:01\r\u001b[K     |█▉                              | 20kB 10.3MB/s eta 0:00:01\r\u001b[K     |██▊                             | 30kB 7.8MB/s eta 0:00:01\r\u001b[K     |███▋                            | 40kB 6.8MB/s eta 0:00:01\r\u001b[K     |████▌                           | 51kB 4.3MB/s eta 0:00:01\r\u001b[K     |█████▍                          | 61kB 4.6MB/s eta 0:00:01\r\u001b[K     |██████▎                         | 71kB 4.7MB/s eta 0:00:01\r\u001b[K     |███████▏                        | 81kB 5.0MB/s eta 0:00:01\r\u001b[K     |████████                        | 92kB 5.4MB/s eta 0:00:01\r\u001b[K     |█████████                       | 102kB 5.5MB/s eta 0:00:01\r\u001b[K     |█████████▉                      | 112kB 5.5MB/s eta 0:00:01\r\u001b[K     |██████████▊                     | 122kB 5.5MB/s eta 0:00:01\r\u001b[K     |███████████▋                    | 133kB 5.5MB/s eta 0:00:01\r\u001b[K     |████████████▌                   | 143kB 5.5MB/s eta 0:00:01\r\u001b[K     |█████████████▍                  | 153kB 5.5MB/s eta 0:00:01\r\u001b[K     |██████████████▎                 | 163kB 5.5MB/s eta 0:00:01\r\u001b[K     |███████████████▏                | 174kB 5.5MB/s eta 0:00:01\r\u001b[K     |████████████████                | 184kB 5.5MB/s eta 0:00:01\r\u001b[K     |█████████████████               | 194kB 5.5MB/s eta 0:00:01\r\u001b[K     |█████████████████▉              | 204kB 5.5MB/s eta 0:00:01\r\u001b[K     |██████████████████▊             | 215kB 5.5MB/s eta 0:00:01\r\u001b[K     |███████████████████▊            | 225kB 5.5MB/s eta 0:00:01\r\u001b[K     |████████████████████▋           | 235kB 5.5MB/s eta 0:00:01\r\u001b[K     |█████████████████████▌          | 245kB 5.5MB/s eta 0:00:01\r\u001b[K     |██████████████████████▍         | 256kB 5.5MB/s eta 0:00:01\r\u001b[K     |███████████████████████▎        | 266kB 5.5MB/s eta 0:00:01\r\u001b[K     |████████████████████████▏       | 276kB 5.5MB/s eta 0:00:01\r\u001b[K     |█████████████████████████       | 286kB 5.5MB/s eta 0:00:01\r\u001b[K     |██████████████████████████      | 296kB 5.5MB/s eta 0:00:01\r\u001b[K     |██████████████████████████▉     | 307kB 5.5MB/s eta 0:00:01\r\u001b[K     |███████████████████████████▊    | 317kB 5.5MB/s eta 0:00:01\r\u001b[K     |████████████████████████████▋   | 327kB 5.5MB/s eta 0:00:01\r\u001b[K     |█████████████████████████████▌  | 337kB 5.5MB/s eta 0:00:01\r\u001b[K     |██████████████████████████████▍ | 348kB 5.5MB/s eta 0:00:01\r\u001b[K     |███████████████████████████████▎| 358kB 5.5MB/s eta 0:00:01\r\u001b[K     |████████████████████████████████| 368kB 5.5MB/s \n",
            "\u001b[?25hRequirement already satisfied: numpy in /usr/local/lib/python3.7/dist-packages (from pykeops[colab]) (1.19.5)\n",
            "Requirement already satisfied: torch in /usr/local/lib/python3.7/dist-packages (from pykeops[colab]) (1.8.1+cu101)\n",
            "Collecting cmake>=3.18\n",
            "\u001b[?25l  Downloading https://files.pythonhosted.org/packages/bb/c5/9a07d851bf8356dba2871f141f3e5e8d390995687be20316041a1e564d4c/cmake-3.18.4.post1-py3-none-manylinux1_x86_64.whl (17.7MB)\n",
            "\u001b[K     |████████████████████████████████| 17.7MB 1.3MB/s \n",
            "\u001b[?25hRequirement already satisfied: typing-extensions in /usr/local/lib/python3.7/dist-packages (from torch->pykeops[colab]) (3.7.4.3)\n",
            "Building wheels for collected packages: pykeops\n",
            "  Building wheel for pykeops (setup.py) ... \u001b[?25l\u001b[?25hdone\n",
            "  Created wheel for pykeops: filename=pykeops-1.5-cp37-none-any.whl size=514452 sha256=2e2b89acd1545bf35f4c6512f091e9e271d9c2b984b02de874e7f85f19c541d5\n",
            "  Stored in directory: /root/.cache/pip/wheels/76/c7/d2/aad1237b109c3e01afe215bc1ae9b954bef153b7020fd6f960\n",
            "Successfully built pykeops\n",
            "Installing collected packages: cmake, pykeops\n",
            "  Found existing installation: cmake 3.12.0\n",
            "    Uninstalling cmake-3.12.0:\n",
            "      Successfully uninstalled cmake-3.12.0\n",
            "Successfully installed cmake-3.18.4.post1 pykeops-1.5\n"
          ],
          "name": "stdout"
        }
      ]
    },
    {
      "cell_type": "markdown",
      "metadata": {
        "id": "jlCZleFdSJcO"
      },
      "source": [
        "## First example with LazyTensors"
      ]
    },
    {
      "cell_type": "markdown",
      "metadata": {
        "id": "nyqcFzBlTs3u"
      },
      "source": [
        "### Straight to Keops"
      ]
    },
    {
      "cell_type": "code",
      "metadata": {
        "colab": {
          "base_uri": "https://localhost:8080/"
        },
        "id": "CcIXgArsNfyZ",
        "outputId": "c1e042f9-3418-4996-da52-8d7eda1a6a23"
      },
      "source": [
        "import torch\n",
        "\n",
        "N,M,D = 10**5, 10**5, 10\n",
        "x = torch.rand(N,D).cuda()\n",
        "y = torch.rand(M,D).cuda()\n",
        "\n",
        "# turning Tensors into Keops symbolic variables\n",
        "from pykeops.torch import LazyTensor\n",
        "import time\n",
        "x_i = LazyTensor(x[:,None,:]) # x_i.shape = (N,1,D)\n",
        "y_j = LazyTensor(y[None,:,:]) # y_j.shape = (1,M,D)\n",
        "D_ij = ((x_i-y_j)**2).sum(dim=2) # symbolic (N,M,1) matrix of squarred distances\n",
        "# Note that nothing has been computed yet, everything will be done in the final reduction step\n",
        "\n",
        "# first time called triggers the compilation + Warming up GPU\n",
        "indices_i = D_ij.argmin(dim=1)\n",
        "\n",
        "start = time.perf_counter()\n",
        "indices_i = D_ij.argmin(dim=1) \n",
        "torch.cuda.synchronize()\n",
        "end = time.perf_counter()\n",
        "\n",
        "print(end-start)\n",
        "print(s_i[:5])\n"
      ],
      "execution_count": 36,
      "outputs": [
        {
          "output_type": "stream",
          "text": [
            "0.2951647469999443\n",
            "tensor([4846, 3094, 8197, 7294, 1752], device='cuda:0')\n"
          ],
          "name": "stdout"
        }
      ]
    },
    {
      "cell_type": "markdown",
      "metadata": {
        "id": "bQGNbGcFTrWu"
      },
      "source": [
        "### Comparison with pytorch"
      ]
    },
    {
      "cell_type": "code",
      "metadata": {
        "colab": {
          "base_uri": "https://localhost:8080/",
          "height": 255
        },
        "id": "OswQpnAwTqZY",
        "outputId": "482a709d-d3db-484e-9b5f-9d94b5f5a6a1"
      },
      "source": [
        "x_i = x[:, None, :]  # (M, 1, D) torch array\n",
        "y_j = y[None, :, :]  # (1, N, D) torch array\n",
        "\n",
        "start = time.perf_counter()\n",
        "D_ij = ((x_i - y_j) ** 2).sum(-1)  # (M, N) array of squared distances |x_i-y_j|^2\n",
        "s_i = D_ij.argmin(dim=1)  # (M,)   array of integer indices\n",
        "torch.cuda.synchronize()\n",
        "\n",
        "end = time.perf_counter()\n",
        "print(end-start)\n",
        "print(s_i[:5])"
      ],
      "execution_count": 37,
      "outputs": [
        {
          "output_type": "error",
          "ename": "RuntimeError",
          "evalue": "ignored",
          "traceback": [
            "\u001b[0;31m---------------------------------------------------------------------------\u001b[0m",
            "\u001b[0;31mRuntimeError\u001b[0m                              Traceback (most recent call last)",
            "\u001b[0;32m<ipython-input-37-b2be8e75f7f6>\u001b[0m in \u001b[0;36m<module>\u001b[0;34m()\u001b[0m\n\u001b[1;32m      3\u001b[0m \u001b[0;34m\u001b[0m\u001b[0m\n\u001b[1;32m      4\u001b[0m \u001b[0mstart\u001b[0m \u001b[0;34m=\u001b[0m \u001b[0mtime\u001b[0m\u001b[0;34m.\u001b[0m\u001b[0mperf_counter\u001b[0m\u001b[0;34m(\u001b[0m\u001b[0;34m)\u001b[0m\u001b[0;34m\u001b[0m\u001b[0;34m\u001b[0m\u001b[0m\n\u001b[0;32m----> 5\u001b[0;31m \u001b[0mD_ij\u001b[0m \u001b[0;34m=\u001b[0m \u001b[0;34m(\u001b[0m\u001b[0;34m(\u001b[0m\u001b[0mx_i\u001b[0m \u001b[0;34m-\u001b[0m \u001b[0my_j\u001b[0m\u001b[0;34m)\u001b[0m \u001b[0;34m**\u001b[0m \u001b[0;36m2\u001b[0m\u001b[0;34m)\u001b[0m\u001b[0;34m.\u001b[0m\u001b[0msum\u001b[0m\u001b[0;34m(\u001b[0m\u001b[0;34m-\u001b[0m\u001b[0;36m1\u001b[0m\u001b[0;34m)\u001b[0m  \u001b[0;31m# (M, N) array of squared distances |x_i-y_j|^2\u001b[0m\u001b[0;34m\u001b[0m\u001b[0;34m\u001b[0m\u001b[0m\n\u001b[0m\u001b[1;32m      6\u001b[0m \u001b[0ms_i\u001b[0m \u001b[0;34m=\u001b[0m \u001b[0mD_ij\u001b[0m\u001b[0;34m.\u001b[0m\u001b[0margmin\u001b[0m\u001b[0;34m(\u001b[0m\u001b[0mdim\u001b[0m\u001b[0;34m=\u001b[0m\u001b[0;36m1\u001b[0m\u001b[0;34m)\u001b[0m  \u001b[0;31m# (M,)   array of integer indices\u001b[0m\u001b[0;34m\u001b[0m\u001b[0;34m\u001b[0m\u001b[0m\n\u001b[1;32m      7\u001b[0m \u001b[0mtorch\u001b[0m\u001b[0;34m.\u001b[0m\u001b[0mcuda\u001b[0m\u001b[0;34m.\u001b[0m\u001b[0msynchronize\u001b[0m\u001b[0;34m(\u001b[0m\u001b[0;34m)\u001b[0m\u001b[0;34m\u001b[0m\u001b[0;34m\u001b[0m\u001b[0m\n",
            "\u001b[0;31mRuntimeError\u001b[0m: CUDA out of memory. Tried to allocate 372.53 GiB (GPU 0; 11.17 GiB total capacity; 17.40 MiB already allocated; 7.02 GiB free; 3.73 GiB reserved in total by PyTorch)"
          ]
        }
      ]
    },
    {
      "cell_type": "markdown",
      "metadata": {
        "id": "biYxiO93VJTo"
      },
      "source": [
        "Fell free to play with M,N,D to see memory overflow and timing differences !"
      ]
    },
    {
      "cell_type": "markdown",
      "metadata": {
        "id": "DInfgeviTiAh"
      },
      "source": [
        "## Second example"
      ]
    },
    {
      "cell_type": "code",
      "metadata": {
        "colab": {
          "base_uri": "https://localhost:8080/"
        },
        "id": "rYMI_ChlTlfN",
        "outputId": "1ab3b018-ae32-43e2-e165-c95827672add"
      },
      "source": [
        "M,N = (100000,200000)\n",
        "D = 3\n",
        "x = torch.randn(M, D).cuda()  # M target points in dimension D, stored on the GPU\n",
        "y = torch.randn(N, D).cuda()  # N source points in dimension D, stored on the GPU\n",
        "b = torch.randn(N, 4).cuda()  # N values of the 4D source signal, stored on the GPU\n",
        "\n",
        "# x.requires_grad = True  # In the next section, we'll compute gradients wrt. x!\n",
        "\n",
        "from pykeops.torch import Vi, Vj # nice utilities\n",
        "\n",
        "x_i = Vi(x) # (M, 1, D) LazyTensor, equivalent to LazyTensor( x[:,None,:] )\n",
        "y_j = Vj(y) # (1, N, D) LazyTensor, equivalent to LazyTensor(y[None, :, :])  \n",
        "b_j = Vj(b) # (1, N, D) LazyTensor, equivalent to LazyTensor(b[None, :, :])  \n",
        "sigma = 0.5\n",
        "\n",
        "D_ij = ((x_i - y_j) ** 2 / sigma**2).sum(-1) # symbolic (M,N) matrix\n",
        "K_ij = (-D_ij).exp()  # Symbolic (M, N) Gaussian kernel\n",
        "\n",
        "a_i = K_ij @ b  # arming up and compilation\n",
        "\n",
        "start = time.perf_counter()\n",
        "a_i = K_ij @ b  # The matrix-vector product \"@\" can be used on \"raw\" PyTorch tensors!\n",
        "torch.cuda.synchronize()\n",
        "end = time.perf_counter()\n",
        "\n",
        "print(end-start)\n",
        "print(\"a_i is now a {} of shape {}.\".format(type(a_i), a_i.shape))"
      ],
      "execution_count": 38,
      "outputs": [
        {
          "output_type": "stream",
          "text": [
            "0.5297916660001647\n",
            "a_i is now a <class 'torch.Tensor'> of shape torch.Size([100000, 4]).\n"
          ],
          "name": "stdout"
        }
      ]
    },
    {
      "cell_type": "markdown",
      "metadata": {
        "id": "GRwL82QlYCh8"
      },
      "source": [
        "## k-nn on MNIST"
      ]
    },
    {
      "cell_type": "markdown",
      "metadata": {
        "id": "VFV19M1yYZLp"
      },
      "source": [
        "Loading MNIST database: 70,000 images (28,28) with labels"
      ]
    },
    {
      "cell_type": "code",
      "metadata": {
        "id": "bL7z2AiMYFr9"
      },
      "source": [
        "import matplotlib.pyplot as plt\n",
        "from sklearn.datasets import fetch_openml\n",
        "\n",
        "mnist = fetch_openml(\"mnist_784\", cache=False)\n",
        "\n",
        "x = torch.tensor(mnist.data.astype(\"float32\"))\n",
        "y = torch.tensor(mnist.target.astype(\"int64\"))"
      ],
      "execution_count": 40,
      "outputs": []
    },
    {
      "cell_type": "markdown",
      "metadata": {
        "id": "YMgiVtY8YjYO"
      },
      "source": [
        "Split train and test set:"
      ]
    },
    {
      "cell_type": "code",
      "metadata": {
        "id": "gabK8OTYYlcT"
      },
      "source": [
        "D = x.shape[1]\n",
        "Ntrain, Ntest = (60000, 10000)\n",
        "# using continuous is crucial for keops. It raise an error if the data is not\n",
        "x_train, y_train = x[:Ntrain, :].contiguous(), y[:Ntrain].contiguous()\n",
        "x_test, y_test = (\n",
        "    x[Ntrain : Ntrain + Ntest, :].contiguous(),\n",
        "    y[Ntrain : Ntrain + Ntest].contiguous(),\n",
        ")"
      ],
      "execution_count": 41,
      "outputs": []
    },
    {
      "cell_type": "markdown",
      "metadata": {
        "id": "wR2akj_sYykE"
      },
      "source": [
        "Perform the K-NN classification on 10,000 test images in dimension 784:"
      ]
    },
    {
      "cell_type": "code",
      "metadata": {
        "colab": {
          "base_uri": "https://localhost:8080/"
        },
        "id": "LJRTXjoEY3bx",
        "outputId": "9d89a2a4-1001-4d60-bc71-c993336a0090"
      },
      "source": [
        "K = 3  # N.B.: K has very little impact on the running time\n",
        "\n",
        "\n",
        "X_i = Vi(x_test) # (10000, 1, 784) test set\n",
        "X_j = Vj(x_train)  # (1, 60000, 784) train set\n",
        "D_ij = ((X_i - X_j) ** 2).sum(-1)  # (10000, 60000) symbolic matrix \n",
        "\n",
        "# compilation\n",
        "ind_knn = D_ij.argKmin(K, dim=1) \n",
        "\n",
        "start = time.perf_counter()\n",
        "ind_knn = D_ij.argKmin(K, dim=1)  # Samples <-> Dataset, (N_test, K)\n",
        "lab_knn = y_train[ind_knn]  # (N_test, K) array of integers in [0,9]\n",
        "y_knn, _ = lab_knn.mode()  # Compute the most likely label\n",
        "end = time.perf_counter()\n",
        "\n",
        "error = (y_knn != y_test).float().mean().item()\n",
        "\n",
        "print(\n",
        "    \"{}-NN on the full MNIST dataset: test error = {:.2f}% in {:.2f}s.\".format(\n",
        "        K, error * 100, end-start\n",
        "    )\n",
        ")\n",
        "\n"
      ],
      "execution_count": 42,
      "outputs": [
        {
          "output_type": "stream",
          "text": [
            "[pyKeOps] Compiling libKeOpstorch1a5347c0c5 in /root/.cache/pykeops-1.5-cpython-37:\n",
            "       formula: ArgKMin_Reduction(Sum(Square((Var(0,784,0) - Var(1,784,1)))),3,0)\n",
            "       aliases: Var(0,784,0); Var(1,784,1); \n",
            "       dtype  : float32\n",
            "... \n",
            "Done.\n",
            "3-NN on the full MNIST dataset: test error = 2.95% in 3.65s.\n"
          ],
          "name": "stdout"
        }
      ]
    },
    {
      "cell_type": "markdown",
      "metadata": {
        "id": "j-e-PKazZ7ws"
      },
      "source": [
        "Display"
      ]
    },
    {
      "cell_type": "code",
      "metadata": {
        "colab": {
          "base_uri": "https://localhost:8080/",
          "height": 481
        },
        "id": "Bskg4LKMZ6dS",
        "outputId": "d512001a-48f5-4f42-ffdc-3b5a09db1dff"
      },
      "source": [
        "plt.figure(figsize=(12, 8))\n",
        "for i in range(6):\n",
        "    ax = plt.subplot(2, 3, i + 1)\n",
        "    ax.imshow((255 - x_test[i]).view(28, 28).detach().cpu().numpy(), cmap=\"gray\")\n",
        "    ax.set_title(\"label = {}\".format(y_knn[i].int()))\n",
        "    plt.axis(\"off\")\n",
        "\n",
        "plt.show()"
      ],
      "execution_count": 43,
      "outputs": [
        {
          "output_type": "display_data",
          "data": {
            "image/png": "[encoded data removed]",
            "text/plain": [
              "<Figure size 864x576 with 6 Axes>"
            ]
          },
          "metadata": {
            "tags": [],
            "needs_background": "light"
          }
        }
      ]
    }
  ]
}