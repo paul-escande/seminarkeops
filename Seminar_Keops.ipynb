{
  "nbformat": 4,
  "nbformat_minor": 0,
  "metadata": {
    "colab": {
      "name": "Seminar_Keops.ipynb",
      "provenance": [],
      "collapsed_sections": []
    },
    "kernelspec": {
      "name": "python3",
      "display_name": "Python 3"
    },
    "language_info": {
      "name": "python"
    },
    "accelerator": "GPU"
  },
  "cells": [
    {
      "cell_type": "markdown",
      "metadata": {
        "id": "0VSrr9SDR-cx"
      },
      "source": [
        "# PyKeops"
      ]
    },
    {
      "cell_type": "markdown",
      "metadata": {
        "id": "YgbooE5SSHpI"
      },
      "source": [
        "## Installation\n",
        "\n",
        "Don't forget to swith GPU accelerator on: **Runtime>Change runtime type>Hardware accelerator** to GPU"
      ]
    },
    {
      "cell_type": "code",
      "metadata": {
        "id": "_CgOM3f3KqCo"
      },
      "source": [
        "!pip install pykeops[colab]"
      ],
      "execution_count": null,
      "outputs": []
    },
    {
      "cell_type": "markdown",
      "metadata": {
        "id": "jlCZleFdSJcO"
      },
      "source": [
        "## First example with LazyTensors"
      ]
    },
    {
      "cell_type": "markdown",
      "metadata": {
        "id": "nyqcFzBlTs3u"
      },
      "source": [
        "### Straight to Keops"
      ]
    },
    {
      "cell_type": "code",
      "metadata": {
        "id": "CcIXgArsNfyZ"
      },
      "source": [
        "import torch\n",
        "\n",
        "N,M,D = 10**5, 10**5, 10\n",
        "x = torch.rand(N,D).cuda()\n",
        "y = torch.rand(M,D).cuda()\n",
        "\n",
        "# turning Tensors into Keops symbolic variables\n",
        "from pykeops.torch import LazyTensor\n",
        "import time\n",
        "x_i = LazyTensor(x[:,None,:]) # x_i.shape = (N,1,D)\n",
        "y_j = LazyTensor(y[None,:,:]) # y_j.shape = (1,M,D)\n",
        "D_ij = ((x_i-y_j)**2).sum(dim=2) # symbolic (N,M,1) matrix of squarred distances\n",
        "# Note that nothing has been computed yet, everything will be done in the final reduction step\n",
        "\n",
        "# first time called triggers the compilation + Warming up GPU\n",
        "indices_i = D_ij.argmin(dim=1)\n",
        "\n",
        "start = time.perf_counter()\n",
        "indices_i = D_ij.argmin(dim=1) \n",
        "torch.cuda.synchronize()\n",
        "end = time.perf_counter()\n",
        "\n",
        "print(end-start)\n",
        "print(s_i[:5])\n"
      ],
      "execution_count": null,
      "outputs": []
    },
    {
      "cell_type": "markdown",
      "metadata": {
        "id": "bQGNbGcFTrWu"
      },
      "source": [
        "### Comparison with pytorch"
      ]
    },
    {
      "cell_type": "code",
      "metadata": {
        "id": "OswQpnAwTqZY"
      },
      "source": [
        "x_i = x[:, None, :]  # (M, 1, D) torch array\n",
        "y_j = y[None, :, :]  # (1, N, D) torch array\n",
        "\n",
        "start = time.perf_counter()\n",
        "D_ij = ((x_i - y_j) ** 2).sum(-1)  # (M, N) array of squared distances |x_i-y_j|^2\n",
        "s_i = D_ij.argmin(dim=1)  # (M,)   array of integer indices\n",
        "torch.cuda.synchronize()\n",
        "\n",
        "end = time.perf_counter()\n",
        "print(end-start)\n",
        "print(s_i[:5])"
      ],
      "execution_count": null,
      "outputs": []
    },
    {
      "cell_type": "markdown",
      "metadata": {
        "id": "biYxiO93VJTo"
      },
      "source": [
        "Fell free to play with M,N,D to see memory overflow and timing differences !"
      ]
    },
    {
      "cell_type": "markdown",
      "metadata": {
        "id": "DInfgeviTiAh"
      },
      "source": [
        "## Second example"
      ]
    },
    {
      "cell_type": "code",
      "metadata": {
        "id": "rYMI_ChlTlfN"
      },
      "source": [
        "M,N = (100000,200000)\n",
        "D = 3\n",
        "x = torch.randn(M, D).cuda()  # M target points in dimension D, stored on the GPU\n",
        "y = torch.randn(N, D).cuda()  # N source points in dimension D, stored on the GPU\n",
        "b = torch.randn(N, 4).cuda()  # N values of the 4D source signal, stored on the GPU\n",
        "\n",
        "# x.requires_grad = True  # In the next section, we'll compute gradients wrt. x!\n",
        "\n",
        "from pykeops.torch import Vi, Vj # nice utilities\n",
        "\n",
        "x_i = Vi(x) # (M, 1, D) LazyTensor, equivalent to LazyTensor( x[:,None,:] )\n",
        "y_j = Vj(y) # (1, N, D) LazyTensor, equivalent to LazyTensor(y[None, :, :])  \n",
        "b_j = Vj(b) # (1, N, D) LazyTensor, equivalent to LazyTensor(b[None, :, :])  \n",
        "sigma = 0.5\n",
        "\n",
        "D_ij = ((x_i - y_j) ** 2 / sigma**2).sum(-1) # symbolic (M,N) matrix\n",
        "K_ij = (-D_ij).exp()  # Symbolic (M, N) Gaussian kernel\n",
        "\n",
        "a_i = K_ij @ b  # arming up and compilation\n",
        "\n",
        "start = time.perf_counter()\n",
        "a_i = K_ij @ b  # The matrix-vector product \"@\" can be used on \"raw\" PyTorch tensors!\n",
        "torch.cuda.synchronize()\n",
        "end = time.perf_counter()\n",
        "\n",
        "print(end-start)\n",
        "print(\"a_i is now a {} of shape {}.\".format(type(a_i), a_i.shape))"
      ],
      "execution_count": null,
      "outputs": []
    },
    {
      "cell_type": "markdown",
      "metadata": {
        "id": "GRwL82QlYCh8"
      },
      "source": [
        "## k-nn on MNIST"
      ]
    },
    {
      "cell_type": "markdown",
      "metadata": {
        "id": "VFV19M1yYZLp"
      },
      "source": [
        "Loading MNIST database: 70,000 images (28,28) with labels"
      ]
    },
    {
      "cell_type": "code",
      "metadata": {
        "id": "bL7z2AiMYFr9"
      },
      "source": [
        "import matplotlib.pyplot as plt\n",
        "from sklearn.datasets import fetch_openml\n",
        "\n",
        "mnist = fetch_openml(\"mnist_784\", cache=False)\n",
        "\n",
        "x = torch.tensor(mnist.data.astype(\"float32\"))\n",
        "y = torch.tensor(mnist.target.astype(\"int64\"))"
      ],
      "execution_count": null,
      "outputs": []
    },
    {
      "cell_type": "markdown",
      "metadata": {
        "id": "YMgiVtY8YjYO"
      },
      "source": [
        "Split train and test set:"
      ]
    },
    {
      "cell_type": "code",
      "metadata": {
        "id": "gabK8OTYYlcT"
      },
      "source": [
        "D = x.shape[1]\n",
        "Ntrain, Ntest = (60000, 10000)\n",
        "# using continuous is crucial for keops. It raise an error if the data is not\n",
        "x_train, y_train = x[:Ntrain, :].contiguous(), y[:Ntrain].contiguous()\n",
        "x_test, y_test = (\n",
        "    x[Ntrain : Ntrain + Ntest, :].contiguous(),\n",
        "    y[Ntrain : Ntrain + Ntest].contiguous(),\n",
        ")"
      ],
      "execution_count": null,
      "outputs": []
    },
    {
      "cell_type": "markdown",
      "metadata": {
        "id": "wR2akj_sYykE"
      },
      "source": [
        "Perform the K-NN classification on 10,000 test images in dimension 784:"
      ]
    },
    {
      "cell_type": "code",
      "metadata": {
        "id": "LJRTXjoEY3bx"
      },
      "source": [
        "K = 3  # N.B.: K has very little impact on the running time\n",
        "\n",
        "\n",
        "X_i = Vi(x_test) # (10000, 1, 784) test set\n",
        "X_j = Vj(x_train)  # (1, 60000, 784) train set\n",
        "D_ij = ((X_i - X_j) ** 2).sum(-1)  # (10000, 60000) symbolic matrix \n",
        "\n",
        "# compilation\n",
        "ind_knn = D_ij.argKmin(K, dim=1) \n",
        "\n",
        "start = time.perf_counter()\n",
        "ind_knn = D_ij.argKmin(K, dim=1)  # Samples <-> Dataset, (N_test, K)\n",
        "lab_knn = y_train[ind_knn]  # (N_test, K) array of integers in [0,9]\n",
        "y_knn, _ = lab_knn.mode()  # Compute the most likely label\n",
        "end = time.perf_counter()\n",
        "\n",
        "error = (y_knn != y_test).float().mean().item()\n",
        "\n",
        "print(\n",
        "    \"{}-NN on the full MNIST dataset: test error = {:.2f}% in {:.2f}s.\".format(\n",
        "        K, error * 100, end-start\n",
        "    )\n",
        ")\n",
        "\n"
      ],
      "execution_count": null,
      "outputs": []
    },
    {
      "cell_type": "markdown",
      "metadata": {
        "id": "j-e-PKazZ7ws"
      },
      "source": [
        "Display"
      ]
    },
    {
      "cell_type": "code",
      "metadata": {
        "colab": {
          "base_uri": "https://localhost:8080/",
          "height": 481
        },
        "id": "Bskg4LKMZ6dS",
        "outputId": "d512001a-48f5-4f42-ffdc-3b5a09db1dff"
      },
      "source": [
        "plt.figure(figsize=(12, 8))\n",
        "for i in range(6):\n",
        "    ax = plt.subplot(2, 3, i + 1)\n",
        "    ax.imshow((255 - x_test[i]).view(28, 28).detach().cpu().numpy(), cmap=\"gray\")\n",
        "    ax.set_title(\"label = {}\".format(y_knn[i].int()))\n",
        "    plt.axis(\"off\")\n",
        "\n",
        "plt.show()"
      ],
      "execution_count": null,
      "outputs": [
        {
          "output_type": "display_data",
          "data": {
            "image/png": "[encoded data removed]",
            "text/plain": [
              "<Figure size 864x576 with 6 Axes>"
            ]
          },
          "metadata": {
            "tags": [],
            "needs_background": "light"
          }
        }
      ]
    }
  ]
}